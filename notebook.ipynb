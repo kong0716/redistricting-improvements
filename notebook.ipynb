{
 "metadata": {
  "language_info": {
   "codemirror_mode": {
    "name": "ipython",
    "version": 3
   },
   "file_extension": ".py",
   "mimetype": "text/x-python",
   "name": "python",
   "nbconvert_exporter": "python",
   "pygments_lexer": "ipython3",
   "version": "3.9.2"
  },
  "orig_nbformat": 2,
  "kernelspec": {
   "name": "python392jvsc74a57bd0dc3849e24b189ab2147d446c71a7fbfdfbf640e38c1ca971268114cac9a2c912",
   "display_name": "Python 3.9.2 64-bit ('gerrychain': conda)"
  },
  "metadata": {
   "interpreter": {
    "hash": "dc3849e24b189ab2147d446c71a7fbfdfbf640e38c1ca971268114cac9a2c912"
   }
  }
 },
 "nbformat": 4,
 "nbformat_minor": 2,
 "cells": [
  {
   "source": [
    "https://github.com/Toblerity/Fiona/issues/944"
   ],
   "cell_type": "markdown",
   "metadata": {}
  },
  {
   "cell_type": "code",
   "execution_count": null,
   "metadata": {},
   "outputs": [],
   "source": [
    "import fiona"
   ]
  },
  {
   "cell_type": "code",
   "execution_count": null,
   "metadata": {},
   "outputs": [],
   "source": [
    "import maup\n",
    "import numpy as np\n",
    "import geopandas\n",
    "import matplotlib.pyplot as plt\n",
    "from gerrychain import (GeographicPartition, Partition, Graph, MarkovChain,\n",
    "                        proposals, updaters, constraints, accept, Election)\n",
    "from gerrychain.updaters import Tally, cut_edges, exterior_boundaries, exterior_boundaries_as_a_set\n",
    "from networkx import is_connected, connected_components\n"
   ]
  },
  {
   "cell_type": "code",
   "execution_count": null,
   "metadata": {
    "tags": []
   },
   "outputs": [],
   "source": [
    "graph = Graph.from_file(\"./TX_vtds.zip\", ignore_errors=True)\n",
    "precincts = geopandas.read_file(\"./TX_vtds.zip\")"
   ]
  },
  {
   "cell_type": "code",
   "execution_count": null,
   "metadata": {},
   "outputs": [],
   "source": [
    "components = list(connected_components(graph))\n",
    "biggest_component_size = max(len(c) for c in components)\n",
    "problem_components = [c for c in components if len(c) != biggest_component_size]\n",
    "for component in problem_components:\n",
    "    for node in component:\n",
    "        graph.remove_node(node)\n",
    "is_connected(graph)"
   ]
  },
  {
   "cell_type": "code",
   "execution_count": null,
   "metadata": {},
   "outputs": [],
   "source": [
    "election = Election(\"PRES16\", {\"Dem\": \"PRES16D\", \"Rep\": \"PRES16R\"})\n",
    "\n",
    "initial_partition = GeographicPartition(\n",
    "    graph,\n",
    "    assignment=\"USCD\",\n",
    "    updaters={\n",
    "        \"cut_edges\": cut_edges,\n",
    "        \"population\": Tally(\"TOTPOP\", alias=\"population\"),\n",
    "        \"PRES16\": election\n",
    "    }\n",
    ")"
   ]
  },
  {
   "cell_type": "code",
   "execution_count": null,
   "metadata": {},
   "outputs": [],
   "source": [
    "initial_partition.graph"
   ]
  },
  {
   "cell_type": "code",
   "execution_count": null,
   "metadata": {},
   "outputs": [],
   "source": [
    "initial_partition.assignment.keys"
   ]
  },
  {
   "cell_type": "code",
   "execution_count": null,
   "metadata": {},
   "outputs": [],
   "source": [
    "def convexhull"
   ]
  },
  {
   "cell_type": "code",
   "execution_count": null,
   "metadata": {},
   "outputs": [],
   "source": [
    "print(initial_partition.graph.geometry.get(8936))"
   ]
  },
  {
   "cell_type": "code",
   "execution_count": null,
   "metadata": {},
   "outputs": [],
   "source": [
    "for district, pop in initial_partition[\"population\"].items():\n",
    "    print(\"District {}: {}\".format(district, pop))"
   ]
  },
  {
   "cell_type": "code",
   "execution_count": null,
   "metadata": {},
   "outputs": [],
   "source": [
    "from gerrychain.constraints.contiguity import contiguous_components, contiguous\n",
    "from gerrychain import Partition\n",
    "contiguous_components(initial_partition)"
   ]
  },
  {
   "cell_type": "code",
   "execution_count": null,
   "metadata": {},
   "outputs": [],
   "source": [
    "import matplotlib.pyplot as plt\n",
    "from gerrychain import (GeographicPartition, Partition, Graph, MarkovChain,\n",
    "                        proposals, updaters, constraints, accept, Election)\n",
    "from gerrychain.proposals import recom\n",
    "from functools import partial\n",
    "import pandas"
   ]
  },
  {
   "cell_type": "code",
   "execution_count": null,
   "metadata": {},
   "outputs": [],
   "source": [
    "sum_population = sum(initial_partition[\"population\"].values())\n",
    "ideal_population = sum_population / len(initial_partition)\n",
    "\n",
    "# We use functools.partial to bind the extra parameters (pop_col, pop_target, epsilon, node_repeats)\n",
    "# of the recom proposal.\n",
    "proposal = partial(recom,\n",
    "                   pop_col=\"TOTPOP\",\n",
    "                   pop_target=sum_population,\n",
    "                   epsilon=1,\n",
    "                   node_repeats=2\n",
    "                  )"
   ]
  },
  {
   "cell_type": "code",
   "execution_count": null,
   "metadata": {},
   "outputs": [],
   "source": [
    "compactness_bound = constraints.UpperBound(\n",
    "    lambda p: len(p[\"cut_edges\"]),\n",
    "    2*len(initial_partition[\"cut_edges\"])\n",
    ")\n",
    "\n",
    "pop_constraint = constraints.within_percent_of_ideal_population(initial_partition, 1)"
   ]
  },
  {
   "cell_type": "code",
   "execution_count": null,
   "metadata": {},
   "outputs": [],
   "source": [
    "from gerrychain import MarkovChain\n",
    "from gerrychain.constraints import single_flip_contiguous, contiguous\n",
    "from gerrychain.proposals import propose_random_flip\n",
    "from gerrychain.accept import always_accept\n",
    "steps = 100\n",
    "chain = MarkovChain(\n",
    "    proposal=proposal,\n",
    "    constraints=[single_flip_contiguous],\n",
    "    accept=always_accept,\n",
    "    initial_state=initial_partition,\n",
    "    total_steps=steps\n",
    ")"
   ]
  },
  {
   "cell_type": "code",
   "execution_count": null,
   "metadata": {},
   "outputs": [],
   "source": [
    "last1 = None\n",
    "for partition in chain.with_progress_bar():\n",
    "    last1 = partition"
   ]
  },
  {
   "cell_type": "code",
   "execution_count": null,
   "metadata": {},
   "outputs": [],
   "source": [
    "last1.plot(figsize=(10, 10), cmap=\"tab20\")\n",
    "plt.axis('off')\n",
    "plt.show()"
   ]
  },
  {
   "cell_type": "code",
   "execution_count": null,
   "metadata": {},
   "outputs": [],
   "source": [
    "last1"
   ]
  },
  {
   "cell_type": "code",
   "execution_count": null,
   "metadata": {},
   "outputs": [],
   "source": [
    "initial_partition = GeographicPartition(\n",
    "    graph,\n",
    "    assignment=\"USCD\",\n",
    "    updaters={\n",
    "        \"cut_edges\": cut_edges,\n",
    "        \"population\": Tally(\"TOTPOP\", alias=\"population\"),\n",
    "        \"PRES16\": election\n",
    "    }\n",
    ")\n",
    "initial_partition.assignment = last1.assignment\n",
    "initial_partition.subgraphs = last1.subgraphs"
   ]
  },
  {
   "cell_type": "code",
   "execution_count": null,
   "metadata": {},
   "outputs": [],
   "source": [
    "steps = 100000\n",
    "chain = MarkovChain(\n",
    "    proposal=propose_random_flip,\n",
    "    constraints=[single_flip_contiguous, pop_constraint, compactness_bound],\n",
    "    accept=always_accept,\n",
    "    initial_state=initial_partition,\n",
    "    total_steps=steps\n",
    ")"
   ]
  },
  {
   "cell_type": "code",
   "execution_count": null,
   "metadata": {},
   "outputs": [],
   "source": [
    "last2 = None\n",
    "for partition in chain.with_progress_bar():\n",
    "    last2 = partition"
   ]
  },
  {
   "cell_type": "code",
   "execution_count": null,
   "metadata": {},
   "outputs": [],
   "source": [
    "last2.plot(figsize=(10, 10), cmap=\"tab20\")\n",
    "plt.axis('off')\n",
    "plt.show()"
   ]
  },
  {
   "cell_type": "code",
   "execution_count": null,
   "metadata": {},
   "outputs": [],
   "source": []
  }
 ]
}