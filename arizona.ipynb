{
 "metadata": {
  "language_info": {
   "codemirror_mode": {
    "name": "ipython",
    "version": 3
   },
   "file_extension": ".py",
   "mimetype": "text/x-python",
   "name": "python",
   "nbconvert_exporter": "python",
   "pygments_lexer": "ipython3",
   "version": "3.9.2"
  },
  "orig_nbformat": 2,
  "kernelspec": {
   "name": "python392jvsc74a57bd0dc3849e24b189ab2147d446c71a7fbfdfbf640e38c1ca971268114cac9a2c912",
   "display_name": "Python 3.9.2 64-bit ('gerrychain': conda)"
  },
  "metadata": {
   "interpreter": {
    "hash": "dc3849e24b189ab2147d446c71a7fbfdfbf640e38c1ca971268114cac9a2c912"
   }
  }
 },
 "nbformat": 4,
 "nbformat_minor": 2,
 "cells": [
  {
   "source": [
    "https://github.com/Toblerity/Fiona/issues/944"
   ],
   "cell_type": "markdown",
   "metadata": {}
  },
  {
   "cell_type": "code",
   "execution_count": null,
   "metadata": {},
   "outputs": [],
   "source": [
    "import fiona"
   ]
  },
  {
   "cell_type": "code",
   "execution_count": null,
   "metadata": {},
   "outputs": [],
   "source": [
    "import matplotlib.pyplot as plt\n",
    "from gerrychain import (GeographicPartition, Partition, Graph, MarkovChain,\n",
    "                        proposals, updaters, constraints, accept, Election)\n",
    "from gerrychain.proposals import recom\n",
    "from functools import partial\n",
    "import pandas"
   ]
  },
  {
   "cell_type": "code",
   "execution_count": null,
   "metadata": {},
   "outputs": [],
   "source": [
    "import maup\n",
    "import numpy as np\n",
    "import geopandas\n",
    "import matplotlib.pyplot as plt\n",
    "from gerrychain import (GeographicPartition, Partition, Graph, MarkovChain,\n",
    "                        proposals, updaters, constraints, accept, Election)\n",
    "from gerrychain.updaters import Tally, cut_edges, exterior_boundaries, exterior_boundaries_as_a_set\n",
    "from networkx import is_connected, connected_components\n"
   ]
  },
  {
   "cell_type": "code",
   "execution_count": null,
   "metadata": {
    "tags": []
   },
   "outputs": [],
   "source": [
    "graph = Graph.from_file(\"./az_precincts.zip\", ignore_errors=True)\n",
    "precincts = geopandas.read_file(\"./az_precincts.zip\")"
   ]
  },
  {
   "cell_type": "code",
   "execution_count": null,
   "metadata": {},
   "outputs": [],
   "source": [
    "components = list(connected_components(graph))\n",
    "biggest_component_size = max(len(c) for c in components)\n",
    "problem_components = [c for c in components if len(c) != biggest_component_size]\n",
    "for component in problem_components:\n",
    "    for node in component:\n",
    "        graph.remove_node(node)\n",
    "is_connected(graph)"
   ]
  },
  {
   "cell_type": "code",
   "execution_count": null,
   "metadata": {},
   "outputs": [],
   "source": [
    "election = Election(\"PRES16\", {\"Dem\": \"PRES16D\", \"Rep\": \"PRES16R\"})\n",
    "\n",
    "initial_partition = GeographicPartition(\n",
    "    graph,\n",
    "    assignment=\"CD\",\n",
    "    updaters={\n",
    "        \"cut_edges\": cut_edges,\n",
    "        \"population\": Tally(\"TOTPOP\", alias=\"population\"),\n",
    "        \"PRES16\": election\n",
    "    }\n",
    ")"
   ]
  },
  {
   "cell_type": "code",
   "execution_count": null,
   "metadata": {},
   "outputs": [],
   "source": [
    "from gerrychain.constraints.contiguity import contiguous_components, contiguous\n",
    "from gerrychain import Partition\n",
    "bad_nodeview = contiguous_components(initial_partition).get('01')[1].nodes()\n",
    "bad_nodeview"
   ]
  },
  {
   "cell_type": "code",
   "execution_count": null,
   "metadata": {},
   "outputs": [],
   "source": [
    "graph"
   ]
  },
  {
   "cell_type": "code",
   "execution_count": null,
   "metadata": {},
   "outputs": [],
   "source": [
    "contiguous_components(initial_partition)"
   ]
  },
  {
   "source": [
    "Arizona has some missing edges in its graph"
   ],
   "cell_type": "markdown",
   "metadata": {}
  },
  {
   "cell_type": "code",
   "execution_count": null,
   "metadata": {},
   "outputs": [],
   "source": [
    "graph.add_edge(208,378)\n",
    "graph.add_edge(208,202)\n",
    "graph.add_edge(208,780)\n",
    "graph.add_edge(208,90)\n",
    "graph.add_edge(208,42)"
   ]
  },
  {
   "cell_type": "code",
   "execution_count": null,
   "metadata": {},
   "outputs": [],
   "source": [
    "graph"
   ]
  },
  {
   "source": [
    "Recreate the initial partition"
   ],
   "cell_type": "markdown",
   "metadata": {}
  },
  {
   "cell_type": "code",
   "execution_count": null,
   "metadata": {},
   "outputs": [],
   "source": [
    "contiguous_components(initial_partition)"
   ]
  },
  {
   "cell_type": "code",
   "execution_count": null,
   "metadata": {},
   "outputs": [],
   "source": [
    "election = Election(\"PRES16\", {\"Dem\": \"PRES16D\", \"Rep\": \"PRES16R\"})\n",
    "\n",
    "initial_partition = GeographicPartition(\n",
    "    graph,\n",
    "    assignment=\"CD\",\n",
    "    updaters={\n",
    "        \"cut_edges\": cut_edges,\n",
    "        \"population\": Tally(\"TOTPOP\", alias=\"population\"),\n",
    "        \"PRES16\": election\n",
    "    }\n",
    ")"
   ]
  },
  {
   "cell_type": "code",
   "execution_count": null,
   "metadata": {},
   "outputs": [],
   "source": [
    "for district, pop in initial_partition[\"population\"].items():\n",
    "    print(\"District {}: {}\".format(district, pop))"
   ]
  },
  {
   "cell_type": "code",
   "execution_count": null,
   "metadata": {},
   "outputs": [],
   "source": [
    "sum_population = sum(initial_partition[\"population\"].values())\n",
    "ideal_population = sum_population / len(initial_partition)\n",
    "\n",
    "# We use functools.partial to bind the extra parameters (pop_col, pop_target, epsilon, node_repeats)\n",
    "# of the recom proposal.\n",
    "proposal = partial(recom,\n",
    "                   pop_col=\"TOTPOP\",\n",
    "                   pop_target=ideal_population,\n",
    "                   epsilon=.05,\n",
    "                   node_repeats=2\n",
    "                  )"
   ]
  },
  {
   "cell_type": "code",
   "execution_count": null,
   "metadata": {},
   "outputs": [],
   "source": [
    "compactness_bound = constraints.UpperBound(\n",
    "    lambda p: len(p[\"cut_edges\"]),\n",
    "    2*len(initial_partition[\"cut_edges\"])\n",
    ")\n",
    "\n",
    "pop_constraint = constraints.within_percent_of_ideal_population(initial_partition, .05)"
   ]
  },
  {
   "cell_type": "code",
   "execution_count": null,
   "metadata": {},
   "outputs": [],
   "source": [
    "def district_diff(partition1, partition2):\n",
    "    percentage_change = []\n",
    "    for (district1, graph1), (district2, graph2) in zip(contiguous_components(partition1).items(), contiguous_components(partition2).items()):\n",
    "        if district1 == district2:\n",
    "            set1 = set(graph1[0].nodes)\n",
    "            set2 = set(graph2[0].nodes)\n",
    "            if set1 != set2:\n",
    "                set_diff1 = set1 - set2\n",
    "                set_diff2 = set2 - set1\n",
    "                set_intersection = set1 & set2\n",
    "                diff = len(set_intersection)/len(set1)\n",
    "                if diff > 1:\n",
    "                    percentage_change.append(0)\n",
    "                else:\n",
    "                    percentage_change.append(diff)\n",
    "            else:\n",
    "                percentage_change.append(1)\n",
    "    return percentage_change"
   ]
  },
  {
   "cell_type": "code",
   "execution_count": null,
   "metadata": {},
   "outputs": [],
   "source": [
    "from gerrychain import MarkovChain\n",
    "from gerrychain.constraints import single_flip_contiguous, contiguous\n",
    "from gerrychain.proposals import propose_random_flip\n",
    "from gerrychain.accept import always_accept\n",
    "steps = 1000\n",
    "chain = MarkovChain(\n",
    "    proposal=proposal,\n",
    "    constraints=[single_flip_contiguous],\n",
    "    accept=always_accept,\n",
    "    initial_state=initial_partition,\n",
    "    total_steps=steps\n",
    ")"
   ]
  },
  {
   "cell_type": "code",
   "execution_count": null,
   "metadata": {},
   "outputs": [],
   "source": [
    "last1 = None\n",
    "best_partition = None\n",
    "best_partition_similarity = 1\n",
    "district_percent_change_per_partition = []\n",
    "for partition in chain.with_progress_bar():\n",
    "    district_differences = district_diff(initial_partition, partition)\n",
    "    district_percent_change_per_partition.append(district_differences)\n",
    "    last1 = partition\n",
    "    partition_similarity = np.mean(district_differences)\n",
    "    if best_partition_similarity > partition_similarity:\n",
    "        best_partition_similarity = partition_similarity\n",
    "        best_partition = partition"
   ]
  },
  {
   "cell_type": "code",
   "execution_count": null,
   "metadata": {},
   "outputs": [],
   "source": [
    "import matplotlib.pyplot as plt\n",
    "y = np.mean(district_percent_change_per_partition, axis=1)\n",
    "plt.plot(y)"
   ]
  },
  {
   "cell_type": "code",
   "execution_count": null,
   "metadata": {},
   "outputs": [],
   "source": [
    "initial_partition.plot(figsize=(10, 10), cmap=\"tab20\")\n",
    "plt.axis('off')\n",
    "plt.show()"
   ]
  },
  {
   "cell_type": "code",
   "execution_count": null,
   "metadata": {},
   "outputs": [],
   "source": [
    "best_partition.plot(figsize=(10, 10), cmap=\"tab20\")\n",
    "plt.axis('off')\n",
    "plt.show()"
   ]
  },
  {
   "cell_type": "code",
   "execution_count": null,
   "metadata": {},
   "outputs": [],
   "source": [
    "last1.plot(figsize=(10, 10), cmap=\"tab20\")\n",
    "plt.axis('off')\n",
    "plt.show()"
   ]
  }
 ]
}